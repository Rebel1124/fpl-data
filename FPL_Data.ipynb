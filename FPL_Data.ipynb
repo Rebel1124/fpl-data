{
 "cells": [
  {
   "cell_type": "code",
   "execution_count": 1,
   "id": "f527117d",
   "metadata": {},
   "outputs": [],
   "source": [
    "import requests\n",
    "import pandas as pd\n",
    "import numpy as np\n",
    "\n",
    "pd.options.display.max_columns = None"
   ]
  },
  {
   "cell_type": "code",
   "execution_count": 2,
   "id": "baa3ac36",
   "metadata": {},
   "outputs": [],
   "source": [
    "url = 'https://fantasy.premierleague.com/api/bootstrap-static/'\n",
    "r = requests.get(url)\n",
    "json = r.json()\n",
    "elements_df = pd.DataFrame(json['elements'])\n",
    "elements_types_df = pd.DataFrame(json['element_types'])\n",
    "teams_df = pd.DataFrame(json['teams'])"
   ]
  },
  {
   "cell_type": "code",
   "execution_count": 3,
   "id": "abaa7273",
   "metadata": {},
   "outputs": [],
   "source": [
    "for x in elements_df.index :\n",
    "    #print(x)\n",
    "    element_id = elements_df.id[x]\n",
    "    first_name = elements_df.first_name[x]\n",
    "    second_name = elements_df.second_name[x]\n",
    "    name = first_name+\" \"+second_name\n",
    "    team = elements_df.team[x]\n",
    "    element_type = elements_df.element_type[x]\n",
    "    url = f'https://fantasy.premierleague.com/api/element-summary/{element_id}/'\n",
    "    r = requests.get(url)\n",
    "    json = r.json()\n",
    "    json_history_df = pd.DataFrame(json['history'])\n",
    "    json_history_df['name'] = name\n",
    "    json_history_df['team'] = team\n",
    "    json_history_df['element_type'] = element_type\n",
    " \n",
    "    \n",
    "    json_history_past_df = pd.DataFrame(json['history_past'])\n",
    "    json_history_past_df['name'] = name\n",
    "    json_history_past_df['team'] = team\n",
    "    json_history_past_df['element_type'] = element_type\n",
    "    \n",
    "    if x == 0 :\n",
    "        all_history_df = json_history_df\n",
    "        all_history_past_df = json_history_past_df\n",
    "    else : \n",
    "        all_history_df = all_history_df.append(json_history_df)\n",
    "        all_history_past_df = all_history_past_df.append(json_history_past_df)"
   ]
  },
  {
   "cell_type": "code",
   "execution_count": 4,
   "id": "30168ff6",
   "metadata": {},
   "outputs": [],
   "source": [
    "all_history_df['position'] = all_history_df.element_type.map(elements_types_df.set_index('id').singular_name)\n",
    "all_history_df['team'] = all_history_df.team.map(teams_df.set_index('id').name)\n",
    "\n",
    "all_history_past_df['position'] = all_history_past_df.element_type.map(elements_types_df.set_index('id').singular_name)\n",
    "all_history_past_df['team'] = all_history_past_df.team.map(teams_df.set_index('id').name)"
   ]
  },
  {
   "cell_type": "code",
   "execution_count": 5,
   "id": "0ac20556",
   "metadata": {},
   "outputs": [],
   "source": [
    "all_history_df.to_csv('all_history_df_current.csv')\n",
    "all_history_past_df.to_csv('all_history_past_df_historic.csv')"
   ]
  },
  {
   "cell_type": "code",
   "execution_count": null,
   "id": "3f41a519",
   "metadata": {},
   "outputs": [],
   "source": []
  },
  {
   "cell_type": "code",
   "execution_count": null,
   "id": "8fe2b37a",
   "metadata": {},
   "outputs": [],
   "source": []
  },
  {
   "cell_type": "code",
   "execution_count": null,
   "id": "d7cbe8f2",
   "metadata": {},
   "outputs": [],
   "source": []
  },
  {
   "cell_type": "code",
   "execution_count": null,
   "id": "f163ec1a",
   "metadata": {},
   "outputs": [],
   "source": []
  },
  {
   "cell_type": "code",
   "execution_count": null,
   "id": "aed19460",
   "metadata": {},
   "outputs": [],
   "source": []
  },
  {
   "cell_type": "code",
   "execution_count": null,
   "id": "4eb170bd",
   "metadata": {},
   "outputs": [],
   "source": []
  },
  {
   "cell_type": "code",
   "execution_count": null,
   "id": "2aa1a5df",
   "metadata": {},
   "outputs": [],
   "source": []
  },
  {
   "cell_type": "code",
   "execution_count": null,
   "id": "e5f2454a",
   "metadata": {},
   "outputs": [],
   "source": []
  },
  {
   "cell_type": "code",
   "execution_count": null,
   "id": "7e8a464d",
   "metadata": {},
   "outputs": [],
   "source": []
  },
  {
   "cell_type": "code",
   "execution_count": null,
   "id": "d080d0c5",
   "metadata": {},
   "outputs": [],
   "source": []
  },
  {
   "cell_type": "code",
   "execution_count": null,
   "id": "f19e7a94",
   "metadata": {},
   "outputs": [],
   "source": []
  },
  {
   "cell_type": "code",
   "execution_count": null,
   "id": "a1d0199f",
   "metadata": {},
   "outputs": [],
   "source": []
  },
  {
   "cell_type": "code",
   "execution_count": null,
   "id": "51c07828",
   "metadata": {},
   "outputs": [],
   "source": []
  }
 ],
 "metadata": {
  "kernelspec": {
   "display_name": "Python 3 (ipykernel)",
   "language": "python",
   "name": "python3"
  },
  "language_info": {
   "codemirror_mode": {
    "name": "ipython",
    "version": 3
   },
   "file_extension": ".py",
   "mimetype": "text/x-python",
   "name": "python",
   "nbconvert_exporter": "python",
   "pygments_lexer": "ipython3",
   "version": "3.9.7"
  }
 },
 "nbformat": 4,
 "nbformat_minor": 5
}
